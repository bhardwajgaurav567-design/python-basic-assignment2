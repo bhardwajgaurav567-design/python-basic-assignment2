{
  "nbformat": 4,
  "nbformat_minor": 0,
  "metadata": {
    "colab": {
      "provenance": []
    },
    "kernelspec": {
      "name": "python3",
      "display_name": "Python 3"
    },
    "language_info": {
      "name": "python"
    }
  },
  "cells": [
    {
      "cell_type": "markdown",
      "source": [
        "#                 Data types and structures"
      ],
      "metadata": {
        "id": "T01OVnttRCPl"
      }
    },
    {
      "cell_type": "markdown",
      "source": [
        "1. What are data structures, and why are they important?\n",
        ">>- Data structures are ways of organizing and storing data efficiently. eg-, list,sets,dictionaries. They are important because they help manage data, allow faster access, and make problem-solving easier.\n",
        "\n"
      ],
      "metadata": {
        "id": "9idjCruLRCMJ"
      }
    },
    {
      "cell_type": "markdown",
      "source": [
        "2. Explain the difference between mutable and immutable data types with examples.\n",
        "\n",
        ">>- Mutable: can be changed after creation(list, dict, set).\n",
        "\n"
      ],
      "metadata": {
        "id": "qPWVkWJsRCGf"
      }
    },
    {
      "cell_type": "code",
      "source": [
        "1 = [1, 2, 3]\n",
        "1.append(4) # List modified\n",
        "print(1)"
      ],
      "metadata": {
        "id": "YI7dctSwVJsu"
      },
      "execution_count": null,
      "outputs": []
    },
    {
      "cell_type": "markdown",
      "source": [
        ">>- immutable: cannot be changed after creation(tuple, string).\n"
      ],
      "metadata": {
        "id": "c7X46fR-VXu9"
      }
    },
    {
      "cell_type": "code",
      "source": [
        "s = \"Hello\"\n",
        "s[0] = \"J\" # Error"
      ],
      "metadata": {
        "id": "ojO8x3N1VjyS"
      },
      "execution_count": null,
      "outputs": []
    },
    {
      "cell_type": "markdown",
      "source": [
        "3. What are the main differences between lists and tuples in python?\n",
        "\n",
        ">>- list are mutable, tuples are immutable.\n",
        "list use[], tuples use().\n",
        ">>- tuples are faster and memory-efficient compared to lists."
      ],
      "metadata": {
        "id": "LmCgCWOPVrY9"
      }
    },
    {
      "cell_type": "markdown",
      "source": [
        "4. Describe how dictionaries store data.\n",
        ">>- Dictionaries store data as key value pairs in a hash table. keys must be unique and immutable, while values can be of any type."
      ],
      "metadata": {
        "id": "he108lcXRB4I"
      }
    },
    {
      "cell_type": "markdown",
      "source": [
        "5. Why might you use a set instead of a list in python?\n",
        "\n",
        ">>- Sets remove duplicates automatically.\n",
        ">>- sets provide faster membership test(in operator).\n"
      ],
      "metadata": {
        "id": "J0PJkP02WwTH"
      }
    },
    {
      "cell_type": "markdown",
      "source": [
        "6. What is a string in python, and how is it different from a list?\n",
        "\n",
        ">>- A string is a sequence of characters, immutable, and indexed. a list is a sequence of elements (can be mixed types), mutable, and can be modified."
      ],
      "metadata": {
        "id": "J9pwSBy2RA1H"
      }
    },
    {
      "cell_type": "markdown",
      "source": [
        "7. How do tuples ensure data integrity in python?\n",
        "\n",
        ">>- Since tuples are immutable, their values cannot be changed after creation. this makes them reliable for storing constant data.\n"
      ],
      "metadata": {
        "id": "Ehj3DTUxX148"
      }
    },
    {
      "cell_type": "markdown",
      "source": [
        "8. What is harh table, and how does it relate to dictionaries in python?\n",
        "\n",
        ">>- A hash table stores key value pairs using a harh function for quick lookup. python dicitonories are implemented using hash tables."
      ],
      "metadata": {
        "id": "2qjzCVktYO7o"
      }
    },
    {
      "cell_type": "markdown",
      "source": [
        "9. Can lists contain different data types in python?\n",
        "\n",
        ">>- eg"
      ],
      "metadata": {
        "id": "JtxyKOVNYvmg"
      }
    },
    {
      "cell_type": "code",
      "source": [
        "my_list = [1, \"hello\", True, 3.14]"
      ],
      "metadata": {
        "id": "FWsWmZ3NY8VN"
      },
      "execution_count": null,
      "outputs": []
    },
    {
      "cell_type": "markdown",
      "source": [
        "10. Explain why strings are immutable in python?\n",
        "\n",
        ">>- Strings are immutable for efficiency, memory optimization(string interning), and security ( hashing, caching).\n"
      ],
      "metadata": {
        "id": "cnC8ayP6ZBLd"
      }
    },
    {
      "cell_type": "markdown",
      "source": [
        "11. What advantages do dictionaries offer over lists for certain tasks?\n",
        "\n",
        ">>- fast data retrieval using keys.\n",
        ">>- keys provide meaningful access insteadd of numeric indexes.\n"
      ],
      "metadata": {
        "id": "2IH2BDO1ZbYk"
      }
    },
    {
      "cell_type": "markdown",
      "source": [
        "12. Describe a scenario where using a tuple would be preferable over a list.\n",
        "\n",
        ">>- When storing fixed data (like coordinates (x,y) or days of the week), tuples are better since data should not change."
      ],
      "metadata": {
        "id": "3RG9y8fbZ3V7"
      }
    },
    {
      "cell_type": "markdown",
      "source": [
        "13. How do sets handle duplicate values in python?\n",
        "\n",
        ">>- Sets automatically remove duplicates."
      ],
      "metadata": {
        "id": "xiGmU-Weaa7r"
      }
    },
    {
      "cell_type": "code",
      "source": [
        "{1, 2, 2, 3}"
      ],
      "metadata": {
        "colab": {
          "base_uri": "https://localhost:8080/"
        },
        "id": "xe5RC9hNaq_5",
        "outputId": "43ace816-1086-455c-e82f-39b4df6b55de"
      },
      "execution_count": 1,
      "outputs": [
        {
          "output_type": "execute_result",
          "data": {
            "text/plain": [
              "{1, 2, 3}"
            ]
          },
          "metadata": {},
          "execution_count": 1
        }
      ]
    },
    {
      "cell_type": "markdown",
      "source": [
        "14. How does the \"in\" keyword work differently for lists and dictionaries?\n",
        "\n",
        ">>- List: checks if an element exists.\n",
        ">>- Dictionaries: checks if a key exists, not the value."
      ],
      "metadata": {
        "id": "VkE4-zf0a0_G"
      }
    },
    {
      "cell_type": "markdown",
      "source": [
        "15. Can you modify the elements of a tuple? Explain why or why not.\n",
        ">>- No. tuples are immutable, so elements cannot  be added, removed, or changed."
      ],
      "metadata": {
        "id": "AAWVi9ZhbPhp"
      }
    },
    {
      "cell_type": "markdown",
      "source": [
        "16. What is a nested dictionary, and give an example of its use case?\n",
        ">>- A dictionary inside another dictionary."
      ],
      "metadata": {
        "id": "Wzzk7vCPbm5A"
      }
    },
    {
      "cell_type": "code",
      "source": [
        "student = {\"name\": \"Alice\", \"age\": 20, \"grades\": {\"math\": 90, \"science\": 85, \"history\": 78}}\n"
      ],
      "metadata": {
        "id": "QO3JRb7bb3--"
      },
      "execution_count": 3,
      "outputs": []
    },
    {
      "cell_type": "markdown",
      "source": [
        "17. Describe the time complexity of accessing elements in dictionary.\n",
        ">>- On average, O(1) (constant time) due to hashing."
      ],
      "metadata": {
        "id": "jzywsArdcfIp"
      }
    },
    {
      "cell_type": "markdown",
      "source": [
        "18. In what situations are lists preferred over dictionaries?\n",
        ">>- When order matters.\n",
        ">>- When you don't need key value mapping.\n",
        ">>- when handling small, sequential data."
      ],
      "metadata": {
        "id": "5u6Zuq9Uc6u0"
      }
    },
    {
      "cell_type": "markdown",
      "source": [
        "19. Why are dictionaries considered unordered, and how does that affect data retrieval?\n",
        ">>- Dictionaries do not maintain insertion order in older python versions before(3.7). retrieval is based on keys, not order."
      ],
      "metadata": {
        "id": "dk6R85asdZ2W"
      }
    },
    {
      "cell_type": "markdown",
      "source": [
        "20. Explain the difference b/w a list and a dictionary in terms of data retrieval.\n",
        ">>- List: accessed by index (my_list[2]).\n",
        ">>- Dictionary: accessed by key (my_dict[\"name\"])."
      ],
      "metadata": {
        "id": "aAjXt7Bud7MA"
      }
    },
    {
      "cell_type": "markdown",
      "source": [
        "# Practical Question and answer"
      ],
      "metadata": {
        "id": "tNxYMvfWeenC"
      }
    },
    {
      "cell_type": "markdown",
      "source": [
        "1. Write a code to create a string with your name and print it."
      ],
      "metadata": {
        "id": "DN5U2tzLeqtP"
      }
    },
    {
      "cell_type": "code",
      "execution_count": 4,
      "metadata": {
        "colab": {
          "base_uri": "https://localhost:8080/"
        },
        "id": "yVfH75MeQm5e",
        "outputId": "0cd1066d-8b03-4650-b18d-620a227af88b"
      },
      "outputs": [
        {
          "output_type": "stream",
          "name": "stdout",
          "text": [
            "John Doe\n"
          ]
        }
      ],
      "source": [
        "name = \"John Doe\"\n",
        "print(name)"
      ]
    },
    {
      "cell_type": "markdown",
      "source": [
        "2. Write a code to find the length of the string \"Hello World\".\n"
      ],
      "metadata": {
        "id": "A8EdcQZrfC-2"
      }
    },
    {
      "cell_type": "code",
      "source": [
        "s = \"Hello World\"\n",
        "print(len(s))"
      ],
      "metadata": {
        "colab": {
          "base_uri": "https://localhost:8080/"
        },
        "id": "kSUfZ3nGfRFo",
        "outputId": "e55e4b2e-1f2a-42f7-a2a4-a5ce8c7aae29"
      },
      "execution_count": 5,
      "outputs": [
        {
          "output_type": "stream",
          "name": "stdout",
          "text": [
            "11\n"
          ]
        }
      ]
    },
    {
      "cell_type": "markdown",
      "source": [
        "3. Write a code to slice the first 3 characters from the string \"python programming\"."
      ],
      "metadata": {
        "id": "tTuHG7gpffHn"
      }
    },
    {
      "cell_type": "code",
      "source": [
        "s = \"Python Programming\"\n",
        "print(s[:3]) # Output: Pyt"
      ],
      "metadata": {
        "colab": {
          "base_uri": "https://localhost:8080/"
        },
        "id": "bctDutsRfp7v",
        "outputId": "17f4798b-fbff-4545-a49b-c01ee021f5d8"
      },
      "execution_count": 6,
      "outputs": [
        {
          "output_type": "stream",
          "name": "stdout",
          "text": [
            "Pyt\n"
          ]
        }
      ]
    },
    {
      "cell_type": "markdown",
      "source": [
        "4. Write a code to convert the string \"hello\" to uppercase.\n"
      ],
      "metadata": {
        "id": "HiKieNwOf8pi"
      }
    },
    {
      "cell_type": "code",
      "source": [
        "s = \"hello\"\n",
        "print(s.upper())"
      ],
      "metadata": {
        "colab": {
          "base_uri": "https://localhost:8080/"
        },
        "id": "pA_ydqgkgFEa",
        "outputId": "80d90e06-9d8b-449a-ce5b-77413e2c736a"
      },
      "execution_count": 7,
      "outputs": [
        {
          "output_type": "stream",
          "name": "stdout",
          "text": [
            "HELLO\n"
          ]
        }
      ]
    },
    {
      "cell_type": "markdown",
      "source": [
        "5. Write a code to replace the world \"apple\" with \"orange\" int the string \"I like apple\".\n"
      ],
      "metadata": {
        "id": "e72LLa63gPqn"
      }
    },
    {
      "cell_type": "code",
      "source": [
        "s = \"I like apple\"\n",
        "print(s.replace(\"apple\", \"orange\"))"
      ],
      "metadata": {
        "colab": {
          "base_uri": "https://localhost:8080/"
        },
        "id": "nbSA-AD-gd7G",
        "outputId": "e1eb6340-faf5-4f6a-fc34-9f7331bec612"
      },
      "execution_count": 8,
      "outputs": [
        {
          "output_type": "stream",
          "name": "stdout",
          "text": [
            "I like orange\n"
          ]
        }
      ]
    },
    {
      "cell_type": "markdown",
      "source": [
        "6. Write a code to create a list with number 1 to 5 and print it."
      ],
      "metadata": {
        "id": "BRlRhAyVgrwv"
      }
    },
    {
      "cell_type": "code",
      "source": [
        "number = [1, 2, 3, 4, 5]\n",
        "print(number)"
      ],
      "metadata": {
        "colab": {
          "base_uri": "https://localhost:8080/"
        },
        "id": "1od5TGnCgzyW",
        "outputId": "78eea004-0927-4074-8369-dce41e3a730d"
      },
      "execution_count": 9,
      "outputs": [
        {
          "output_type": "stream",
          "name": "stdout",
          "text": [
            "[1, 2, 3, 4, 5]\n"
          ]
        }
      ]
    },
    {
      "cell_type": "markdown",
      "source": [
        "7. Write a code to append the number 10 to the list [1,2,3,4]."
      ],
      "metadata": {
        "id": "m6C0naWshGcP"
      }
    },
    {
      "cell_type": "code",
      "source": [
        "number = [1, 2, 3, 4]\n",
        "number.append(10)\n",
        "print(number)"
      ],
      "metadata": {
        "colab": {
          "base_uri": "https://localhost:8080/"
        },
        "id": "BwYBXIQfhSGm",
        "outputId": "7138d52f-756e-49bb-c50c-30850c50824b"
      },
      "execution_count": 10,
      "outputs": [
        {
          "output_type": "stream",
          "name": "stdout",
          "text": [
            "[1, 2, 3, 4, 10]\n"
          ]
        }
      ]
    },
    {
      "cell_type": "markdown",
      "source": [
        "8. Write a code to remove the number 3 fromt the list[1,2,3,4,5].\n"
      ],
      "metadata": {
        "id": "Y0BbnQiFhc9p"
      }
    },
    {
      "cell_type": "code",
      "source": [
        "number = [1, 2, 3, 4, 5]\n",
        "number.remove(3)\n",
        "print(number)"
      ],
      "metadata": {
        "colab": {
          "base_uri": "https://localhost:8080/"
        },
        "id": "rTTS_E3whqju",
        "outputId": "95739869-4221-4987-c742-a90d26f5e33c"
      },
      "execution_count": 11,
      "outputs": [
        {
          "output_type": "stream",
          "name": "stdout",
          "text": [
            "[1, 2, 4, 5]\n"
          ]
        }
      ]
    },
    {
      "cell_type": "markdown",
      "source": [
        "9. Write a code to access the second element in the list['a', 'b', 'c', 'd']."
      ],
      "metadata": {
        "id": "zmYSt2Jqh2P4"
      }
    },
    {
      "cell_type": "code",
      "source": [
        "letters = ['a', 'b', 'c', 'd']\n",
        "print(letters[1])"
      ],
      "metadata": {
        "colab": {
          "base_uri": "https://localhost:8080/"
        },
        "id": "O-la8m4jiFu3",
        "outputId": "80f5f2ce-2486-4583-b6e6-7cece8e94654"
      },
      "execution_count": 12,
      "outputs": [
        {
          "output_type": "stream",
          "name": "stdout",
          "text": [
            "b\n"
          ]
        }
      ]
    },
    {
      "cell_type": "markdown",
      "source": [
        "10. Write a code to reverse the list [10,20,30,40,50]."
      ],
      "metadata": {
        "id": "Elcqy9zQiVj4"
      }
    },
    {
      "cell_type": "code",
      "source": [
        "number = [10, 20, 30, 40, 50]\n",
        "number.reverse()\n",
        "print(number)"
      ],
      "metadata": {
        "colab": {
          "base_uri": "https://localhost:8080/"
        },
        "id": "oMeliILtieBk",
        "outputId": "00007b06-8af1-455e-b448-e8513b109e19"
      },
      "execution_count": 13,
      "outputs": [
        {
          "output_type": "stream",
          "name": "stdout",
          "text": [
            "[50, 40, 30, 20, 10]\n"
          ]
        }
      ]
    },
    {
      "cell_type": "markdown",
      "source": [
        "11. Write a code to create a tuple with the elements 100,200,300 and print it."
      ],
      "metadata": {
        "id": "1aMeYZacilaM"
      }
    },
    {
      "cell_type": "code",
      "source": [
        "t = (100, 200, 300)\n",
        "print(t)"
      ],
      "metadata": {
        "colab": {
          "base_uri": "https://localhost:8080/"
        },
        "id": "852p4ayBiuqj",
        "outputId": "9546e6ba-83db-475d-8b4f-d2bf7e8f925e"
      },
      "execution_count": 14,
      "outputs": [
        {
          "output_type": "stream",
          "name": "stdout",
          "text": [
            "(100, 200, 300)\n"
          ]
        }
      ]
    },
    {
      "cell_type": "markdown",
      "source": [
        "12. Write a code to access the second to last element of the tuple ('red','green', 'blue', 'yellow')."
      ],
      "metadata": {
        "id": "CpTml5C-i1mF"
      }
    },
    {
      "cell_type": "code",
      "source": [
        "colors = ('red', 'green', 'blue', 'yellow')\n",
        "print(colors[-2])"
      ],
      "metadata": {
        "colab": {
          "base_uri": "https://localhost:8080/"
        },
        "id": "iSnjxBhcjJYx",
        "outputId": "2209621f-9f74-4a17-f901-185cbe3bb8ee"
      },
      "execution_count": 15,
      "outputs": [
        {
          "output_type": "stream",
          "name": "stdout",
          "text": [
            "blue\n"
          ]
        }
      ]
    },
    {
      "cell_type": "markdown",
      "source": [
        "13. Write a code to find the minimun number in the tuple (10,20,5 ,15)."
      ],
      "metadata": {
        "id": "J_LSprKkjSyG"
      }
    },
    {
      "cell_type": "code",
      "source": [
        "number = (10, 20, 5, 15)\n",
        "print(min(number))"
      ],
      "metadata": {
        "colab": {
          "base_uri": "https://localhost:8080/"
        },
        "id": "ejoKP23rjdvv",
        "outputId": "df383aaf-29df-42d7-8e6c-d2f383cd828a"
      },
      "execution_count": 16,
      "outputs": [
        {
          "output_type": "stream",
          "name": "stdout",
          "text": [
            "5\n"
          ]
        }
      ]
    },
    {
      "cell_type": "markdown",
      "source": [
        "14. Write a code the find the index of the element \"cat\" in the tuple ('dog', 'cat', 'rabbit')."
      ],
      "metadata": {
        "id": "iDGI0_qSjpLg"
      }
    },
    {
      "cell_type": "code",
      "source": [
        "animals = ('dog', 'cat', 'rabbit')\n",
        "print(animals.index('cat'))"
      ],
      "metadata": {
        "colab": {
          "base_uri": "https://localhost:8080/"
        },
        "id": "p-MByu7Dj3dS",
        "outputId": "cd94b78c-7a70-43d4-e0f4-1ae62e5f78f6"
      },
      "execution_count": 17,
      "outputs": [
        {
          "output_type": "stream",
          "name": "stdout",
          "text": [
            "1\n"
          ]
        }
      ]
    },
    {
      "cell_type": "markdown",
      "source": [
        "15. Write a code to create a tup;e containing three different fruits and check if \"kiwi\" is in it."
      ],
      "metadata": {
        "id": "UyZhqyQGkDJ7"
      }
    },
    {
      "cell_type": "code",
      "source": [
        "fruits =  (\"apple\", \"banana\", \"orange\")\n",
        "print(\"kiwi\" in fruits)"
      ],
      "metadata": {
        "colab": {
          "base_uri": "https://localhost:8080/"
        },
        "id": "UdtJ3MGqkOlk",
        "outputId": "905deb81-b2a5-4ddd-caf5-4c891bbbc328"
      },
      "execution_count": 18,
      "outputs": [
        {
          "output_type": "stream",
          "name": "stdout",
          "text": [
            "False\n"
          ]
        }
      ]
    },
    {
      "cell_type": "markdown",
      "source": [
        "16. Write a code to create a set with the elements 'a', 'b', 'c' and print it."
      ],
      "metadata": {
        "id": "fSpzL9aikUhd"
      }
    },
    {
      "cell_type": "code",
      "source": [
        "s = {'a', 'b', 'c'}\n",
        "print(s)"
      ],
      "metadata": {
        "colab": {
          "base_uri": "https://localhost:8080/"
        },
        "id": "5FK_3dqgkeGy",
        "outputId": "8a323830-90dc-4f3e-e2b1-b6ecb609f8e2"
      },
      "execution_count": 19,
      "outputs": [
        {
          "output_type": "stream",
          "name": "stdout",
          "text": [
            "{'a', 'b', 'c'}\n"
          ]
        }
      ]
    },
    {
      "cell_type": "markdown",
      "source": [
        "17. Write a code to clear all elements from the set{1,2,3,4,5}.\n"
      ],
      "metadata": {
        "id": "sgvKQun_kjM8"
      }
    },
    {
      "cell_type": "code",
      "source": [
        "s = {1, 2, 3, 4, 5}\n",
        "s.clear()\n",
        "print(s)"
      ],
      "metadata": {
        "colab": {
          "base_uri": "https://localhost:8080/"
        },
        "id": "Pw3W87SUkvPU",
        "outputId": "6a2c8d37-d371-482e-97b9-a3b3edd750db"
      },
      "execution_count": 20,
      "outputs": [
        {
          "output_type": "stream",
          "name": "stdout",
          "text": [
            "set()\n"
          ]
        }
      ]
    },
    {
      "cell_type": "markdown",
      "source": [
        "18. Write a code to remove the element 4 from the set{1,2,3,4}."
      ],
      "metadata": {
        "id": "y9U3Irrpk02G"
      }
    },
    {
      "cell_type": "code",
      "source": [
        "s = {1, 2, 3, 4}\n",
        "s.remove(4)\n",
        "print(s)"
      ],
      "metadata": {
        "colab": {
          "base_uri": "https://localhost:8080/"
        },
        "id": "3I10xsJgk_Cb",
        "outputId": "41cd73db-114f-4f84-be32-4f9beccad890"
      },
      "execution_count": 21,
      "outputs": [
        {
          "output_type": "stream",
          "name": "stdout",
          "text": [
            "{1, 2, 3}\n"
          ]
        }
      ]
    },
    {
      "cell_type": "markdown",
      "source": [
        "19. Write a code to find the union of two set {1,2,3} and {3,4,5}.\n"
      ],
      "metadata": {
        "id": "910c9oD6lDu3"
      }
    },
    {
      "cell_type": "code",
      "source": [
        "set1 = {1, 2, 3}\n",
        "set2 = {3, 4, 5}\n",
        "print(set1.union(set2))"
      ],
      "metadata": {
        "colab": {
          "base_uri": "https://localhost:8080/"
        },
        "id": "vARxrO-qlMke",
        "outputId": "dcd45a10-1619-4da8-ab51-a2e387026bac"
      },
      "execution_count": 24,
      "outputs": [
        {
          "output_type": "stream",
          "name": "stdout",
          "text": [
            "{1, 2, 3, 4, 5}\n"
          ]
        }
      ]
    },
    {
      "cell_type": "markdown",
      "source": [
        "20. Write a code to find the intersection of two sets{1,2,3} and {2,3,4].\n"
      ],
      "metadata": {
        "id": "TZrTUMkhlc7G"
      }
    },
    {
      "cell_type": "code",
      "source": [
        "set1 = {1, 2, 3}\n",
        "set2 = {2, 3, 4}\n",
        "print(set1.intersection(set2))"
      ],
      "metadata": {
        "colab": {
          "base_uri": "https://localhost:8080/"
        },
        "id": "ad9NY20plpW5",
        "outputId": "17995232-24dd-4031-c9c4-a6b695e1f13e"
      },
      "execution_count": 25,
      "outputs": [
        {
          "output_type": "stream",
          "name": "stdout",
          "text": [
            "{2, 3}\n"
          ]
        }
      ]
    },
    {
      "cell_type": "markdown",
      "source": [
        "21. Write a code to create a dictionary with the keys \"name\", \"age\", and \"city\", and print it."
      ],
      "metadata": {
        "id": "YtGJartymQkL"
      }
    },
    {
      "cell_type": "code",
      "source": [
        "person = { \"name\": \"John\", \"age\": 25, \"city\": \"USA\"}\n",
        "print(person)"
      ],
      "metadata": {
        "colab": {
          "base_uri": "https://localhost:8080/"
        },
        "id": "QlOXxmOzmRgk",
        "outputId": "8bef1381-04b9-4a50-9980-6b1db9daf5b6"
      },
      "execution_count": 26,
      "outputs": [
        {
          "output_type": "stream",
          "name": "stdout",
          "text": [
            "{'name': 'John', 'age': 25, 'city': 'USA'}\n"
          ]
        }
      ]
    },
    {
      "cell_type": "markdown",
      "source": [
        "22. Write a code to add a new key value pair \"country\": \"USA\" to the dictionary{\"name\":\"john\",\"age\":25}.\n"
      ],
      "metadata": {
        "id": "UlD-OkdXlxU9"
      }
    },
    {
      "cell_type": "code",
      "source": [
        "person = {\"name\": \"John\", \"age\": 25}\n",
        "person[\"country\"] = \"USA\"\n",
        "print(person)"
      ],
      "metadata": {
        "colab": {
          "base_uri": "https://localhost:8080/"
        },
        "id": "21sE-T6SmHQX",
        "outputId": "6e74651e-ae98-4c20-ad25-aaca3a807768"
      },
      "execution_count": 27,
      "outputs": [
        {
          "output_type": "stream",
          "name": "stdout",
          "text": [
            "{'name': 'John', 'age': 25, 'country': 'USA'}\n"
          ]
        }
      ]
    },
    {
      "cell_type": "markdown",
      "source": [
        "23. Write a code to access the value associated with the key \"name\" in the dictionary{\"name\":\"alice\", \"age\":30}."
      ],
      "metadata": {
        "id": "xvlU3vA8nOqq"
      }
    },
    {
      "cell_type": "code",
      "source": [
        "person= {\"name\": \"Alice\", \"age\": 30}\n",
        "print(person[\"name\"])"
      ],
      "metadata": {
        "colab": {
          "base_uri": "https://localhost:8080/"
        },
        "id": "jSMuUD-5nlwv",
        "outputId": "febf2953-6faa-49ff-e226-2e4dc319213f"
      },
      "execution_count": 28,
      "outputs": [
        {
          "output_type": "stream",
          "name": "stdout",
          "text": [
            "Alice\n"
          ]
        }
      ]
    },
    {
      "cell_type": "markdown",
      "source": [
        "24. Write a code to remove the key \"age\" from the dictionary{\"name\": \"bob\", \"age\":22, \"city\": \"new york\"}."
      ],
      "metadata": {
        "id": "Ik0MqOZmnuuc"
      }
    },
    {
      "cell_type": "code",
      "source": [
        "person = {\"name\": \"Bob\", \"age\": 22, \"city\": \"New York\"}\n",
        "del person[\"age\"]\n",
        "print(person)"
      ],
      "metadata": {
        "colab": {
          "base_uri": "https://localhost:8080/"
        },
        "id": "KvWXlbvXoGme",
        "outputId": "66bf114c-9d95-4b77-c072-44481d10ce36"
      },
      "execution_count": 29,
      "outputs": [
        {
          "output_type": "stream",
          "name": "stdout",
          "text": [
            "{'name': 'Bob', 'city': 'New York'}\n"
          ]
        }
      ]
    },
    {
      "cell_type": "markdown",
      "source": [
        "25. Write a code to check if the key \"city\" exists in the dictionary {\"name\", \"alice\", \"city\": \"paris\"}."
      ],
      "metadata": {
        "id": "ErY_ZmgqoLQ4"
      }
    },
    {
      "cell_type": "code",
      "source": [
        "person = {\"name\": \"Alice\", \"city\": \"Paris\"}\n",
        "print(\"city\" in person)"
      ],
      "metadata": {
        "colab": {
          "base_uri": "https://localhost:8080/"
        },
        "id": "boStw5nIodRA",
        "outputId": "fbeda7f7-cff0-44ae-e5cd-1f332e5dc4de"
      },
      "execution_count": 30,
      "outputs": [
        {
          "output_type": "stream",
          "name": "stdout",
          "text": [
            "True\n"
          ]
        }
      ]
    },
    {
      "cell_type": "markdown",
      "source": [
        "26. Write a code to create a list, a tuple, and a dictionary, and print them all."
      ],
      "metadata": {
        "id": "jS-5rfHUolRc"
      }
    },
    {
      "cell_type": "code",
      "source": [
        "my_list = [1, 2, 3]\n",
        "my_tuple = (4, 5, 6)\n",
        "my_dict = {\"a\": \"10\", \"b\": 20, \"c\": 30}\n",
        "\n",
        "print(my_list)\n",
        "print(my_tuple)\n",
        "print(my_dict)"
      ],
      "metadata": {
        "colab": {
          "base_uri": "https://localhost:8080/"
        },
        "id": "xrnZ9ontotwY",
        "outputId": "bb6279c0-e6fa-4dd3-db09-9dff4ab4d68f"
      },
      "execution_count": 31,
      "outputs": [
        {
          "output_type": "stream",
          "name": "stdout",
          "text": [
            "[1, 2, 3]\n",
            "(4, 5, 6)\n",
            "{'a': '10', 'b': 20, 'c': 30}\n"
          ]
        }
      ]
    },
    {
      "cell_type": "markdown",
      "source": [
        "27. Write a code to create a list of 5 random numbers between 1 and 100, sort it in ascending order, and print the result."
      ],
      "metadata": {
        "id": "8mFtra06pCUh"
      }
    },
    {
      "cell_type": "code",
      "source": [
        "import random\n",
        "random_numbers = [random.randint(1, 100) for _ in range(5)]\n",
        "random_numbers.sort()\n",
        "print(random_numbers)"
      ],
      "metadata": {
        "colab": {
          "base_uri": "https://localhost:8080/"
        },
        "id": "lAe1w2BJpOkV",
        "outputId": "ff8dde69-f7ef-4654-b8ef-bcdcda952a41"
      },
      "execution_count": 32,
      "outputs": [
        {
          "output_type": "stream",
          "name": "stdout",
          "text": [
            "[27, 40, 50, 65, 82]\n"
          ]
        }
      ]
    },
    {
      "cell_type": "markdown",
      "source": [
        "28. Write a code to create a list with strings and print the element at the third index."
      ],
      "metadata": {
        "id": "MhLuVZxDpcQa"
      }
    },
    {
      "cell_type": "code",
      "source": [
        "words = [\"apple\", \"banana\", \"cherry\", \"date\", \"elderberry\"]\n",
        "print(words[3]) # Index 3 > \"cherry\""
      ],
      "metadata": {
        "colab": {
          "base_uri": "https://localhost:8080/"
        },
        "id": "ysbVtLMCpr5B",
        "outputId": "790a018c-6bf1-4eda-f0c6-67bda232e88c"
      },
      "execution_count": 33,
      "outputs": [
        {
          "output_type": "stream",
          "name": "stdout",
          "text": [
            "date\n"
          ]
        }
      ]
    },
    {
      "cell_type": "markdown",
      "source": [
        "29. Write a code to combine two dictionaries into one and print the result."
      ],
      "metadata": {
        "id": "iRLbeCm4qGo5"
      }
    },
    {
      "cell_type": "code",
      "source": [
        "dict1 = {\"a\": 1, \"b\": 2}\n",
        "dict2 = {\"c\": 3, \"d\": 4}\n",
        "combined_dict = {**dict1, **dict2}\n",
        "print(combined_dict)\n",
        "#"
      ],
      "metadata": {
        "colab": {
          "base_uri": "https://localhost:8080/"
        },
        "id": "Pgr2rQj1qOh_",
        "outputId": "9d87b335-5ad8-48b1-af65-f10b029f49b5"
      },
      "execution_count": 34,
      "outputs": [
        {
          "output_type": "stream",
          "name": "stdout",
          "text": [
            "{'a': 1, 'b': 2, 'c': 3, 'd': 4}\n"
          ]
        }
      ]
    },
    {
      "cell_type": "markdown",
      "source": [
        "30. Write a code to convert a list of strings into a set."
      ],
      "metadata": {
        "id": "QR4J3DSyqS3b"
      }
    },
    {
      "cell_type": "code",
      "source": [
        "words = [\"apple\", \"banana\", \"cherry\", \"date\", \"elderberry\"]\n",
        "word_set = set(words)\n",
        "print(word_set)"
      ],
      "metadata": {
        "colab": {
          "base_uri": "https://localhost:8080/"
        },
        "id": "Z_CQwEGaq8Be",
        "outputId": "72a4a0a1-f1ea-4ae7-a8d8-e19211c2a57e"
      },
      "execution_count": 35,
      "outputs": [
        {
          "output_type": "stream",
          "name": "stdout",
          "text": [
            "{'banana', 'cherry', 'elderberry', 'date', 'apple'}\n"
          ]
        }
      ]
    },
    {
      "cell_type": "markdown",
      "source": [
        "\n"
      ],
      "metadata": {
        "id": "RRLY6nNfqYbO"
      }
    }
  ]
}